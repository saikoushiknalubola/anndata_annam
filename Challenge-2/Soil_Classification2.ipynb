{
  "metadata": {
    "kernelspec": {
      "language": "python",
      "display_name": "Python 3",
      "name": "python3"
    },
    "language_info": {
      "name": "python",
      "version": "3.11.11",
      "mimetype": "text/x-python",
      "codemirror_mode": {
        "name": "ipython",
        "version": 3
      },
      "pygments_lexer": "ipython3",
      "nbconvert_exporter": "python",
      "file_extension": ".py"
    },
    "kaggle": {
      "accelerator": "nvidiaTeslaT4",
      "dataSources": [
        {
          "sourceId": 102966,
          "databundleVersionId": 12412856,
          "sourceType": "competition"
        }
      ],
      "dockerImageVersionId": 31041,
      "isInternetEnabled": true,
      "language": "python",
      "sourceType": "notebook",
      "isGpuEnabled": true
    },
    "colab": {
      "name": "Soil Classification2",
      "provenance": [],
      "include_colab_link": true
    }
  },
  "nbformat_minor": 0,
  "nbformat": 4,
  "cells": [
    {
      "cell_type": "markdown",
      "metadata": {
        "id": "view-in-github",
        "colab_type": "text"
      },
      "source": [
        "<a href=\"https://colab.research.google.com/github/saikoushiknalubola/anndata_annam/blob/main/Challenge-2/Soil_Classification2.ipynb\" target=\"_parent\"><img src=\"https://colab.research.google.com/assets/colab-badge.svg\" alt=\"Open In Colab\"/></a>"
      ]
    },
    {
      "source": [
        "# IMPORTANT: SOME KAGGLE DATA SOURCES ARE PRIVATE\n",
        "# RUN THIS CELL IN ORDER TO IMPORT YOUR KAGGLE DATA SOURCES.\n",
        "import kagglehub\n",
        "kagglehub.login()\n"
      ],
      "metadata": {
        "id": "-R2k4P8vuT9b"
      },
      "cell_type": "code",
      "outputs": [],
      "execution_count": null
    },
    {
      "source": [
        "# IMPORTANT: RUN THIS CELL IN ORDER TO IMPORT YOUR KAGGLE DATA SOURCES,\n",
        "# THEN FEEL FREE TO DELETE THIS CELL.\n",
        "# NOTE: THIS NOTEBOOK ENVIRONMENT DIFFERS FROM KAGGLE'S PYTHON\n",
        "# ENVIRONMENT SO THERE MAY BE MISSING LIBRARIES USED BY YOUR\n",
        "# NOTEBOOK.\n",
        "\n",
        "soil_classification_part_2_path = kagglehub.competition_download('soil-classification-part-2')\n",
        "\n",
        "print('Data source import complete.')\n"
      ],
      "metadata": {
        "id": "2S_1lcYcuT9b"
      },
      "cell_type": "code",
      "outputs": [],
      "execution_count": null
    },
    {
      "cell_type": "code",
      "source": [
        "import os\n",
        "import numpy as np\n",
        "import pandas as pd\n",
        "import torch\n",
        "import torch.nn as nn\n",
        "import torch.optim as optim\n",
        "from torch.utils.data import Dataset, DataLoader, random_split\n",
        "from torchvision import models, transforms\n",
        "from PIL import Image\n",
        "from tqdm import tqdm\n",
        "from sklearn.metrics import f1_score\n",
        "\n",
        "# Set device\n",
        "DEVICE = torch.device(\"cuda\" if torch.cuda.is_available() else \"cpu\")"
      ],
      "metadata": {
        "trusted": true,
        "execution": {
          "iopub.status.busy": "2025-05-25T13:44:19.506864Z",
          "iopub.execute_input": "2025-05-25T13:44:19.507474Z",
          "iopub.status.idle": "2025-05-25T13:44:19.512038Z",
          "shell.execute_reply.started": "2025-05-25T13:44:19.507449Z",
          "shell.execute_reply": "2025-05-25T13:44:19.511248Z"
        },
        "id": "iWHTOhdbuT9c"
      },
      "outputs": [],
      "execution_count": null
    },
    {
      "cell_type": "code",
      "source": [
        "# Paths\n",
        "TRAIN_DIR = '/kaggle/input/soil-classification-part-2/soil_competition-2025/train'\n",
        "TEST_DIR = '/kaggle/input/soil-classification-part-2/soil_competition-2025/test'\n",
        "TRAIN_CSV = '/kaggle/input/soil-classification-part-2/soil_competition-2025/train_labels.csv'\n",
        "TEST_CSV = '/kaggle/input/soil-classification-part-2/soil_competition-2025/test_ids.csv'"
      ],
      "metadata": {
        "trusted": true,
        "execution": {
          "iopub.status.busy": "2025-05-25T13:44:29.490339Z",
          "iopub.execute_input": "2025-05-25T13:44:29.490653Z",
          "iopub.status.idle": "2025-05-25T13:44:29.494859Z",
          "shell.execute_reply.started": "2025-05-25T13:44:29.490632Z",
          "shell.execute_reply": "2025-05-25T13:44:29.494101Z"
        },
        "id": "nJAlWLwxuT9c"
      },
      "outputs": [],
      "execution_count": null
    },
    {
      "cell_type": "code",
      "source": [
        "# Load dataframes\n",
        "train_df = pd.read_csv(TRAIN_CSV)\n",
        "test_df = pd.read_csv(TEST_CSV)"
      ],
      "metadata": {
        "trusted": true,
        "execution": {
          "iopub.status.busy": "2025-05-25T13:45:01.496992Z",
          "iopub.execute_input": "2025-05-25T13:45:01.497722Z",
          "iopub.status.idle": "2025-05-25T13:45:01.511567Z",
          "shell.execute_reply.started": "2025-05-25T13:45:01.497696Z",
          "shell.execute_reply": "2025-05-25T13:45:01.510878Z"
        },
        "id": "9qvFNk_YuT9c"
      },
      "outputs": [],
      "execution_count": null
    },
    {
      "cell_type": "code",
      "source": [
        "# Image transforms\n",
        "train_transform = transforms.Compose([\n",
        "    transforms.Resize((224, 224)),\n",
        "    transforms.RandomHorizontalFlip(),\n",
        "    transforms.ToTensor(),\n",
        "    transforms.Normalize([0.485, 0.456, 0.406], [0.229, 0.224, 0.225])\n",
        "])\n",
        "\n",
        "test_transform = transforms.Compose([\n",
        "    transforms.Resize((224, 224)),\n",
        "    transforms.ToTensor(),\n",
        "    transforms.Normalize([0.485, 0.456, 0.406], [0.229, 0.224, 0.225])\n",
        "])"
      ],
      "metadata": {
        "trusted": true,
        "execution": {
          "iopub.status.busy": "2025-05-25T13:45:11.607725Z",
          "iopub.execute_input": "2025-05-25T13:45:11.608384Z",
          "iopub.status.idle": "2025-05-25T13:45:11.613038Z",
          "shell.execute_reply.started": "2025-05-25T13:45:11.60836Z",
          "shell.execute_reply": "2025-05-25T13:45:11.612294Z"
        },
        "id": "wmxOcZrVuT9d"
      },
      "outputs": [],
      "execution_count": null
    },
    {
      "cell_type": "code",
      "source": [
        "# Dataset class\n",
        "class SoilBinaryDataset(Dataset):\n",
        "    def __init__(self, df, img_dir, transform=None, is_test=False):\n",
        "        self.df = df.reset_index(drop=True)  # reset index for safe indexing\n",
        "        self.img_dir = img_dir\n",
        "        self.transform = transform\n",
        "        self.is_test = is_test\n",
        "\n",
        "    def __len__(self):\n",
        "        return len(self.df)\n",
        "\n",
        "    def __getitem__(self, idx):\n",
        "        img_id = self.df.iloc[idx]['image_id']\n",
        "        img_path = os.path.join(self.img_dir, img_id)\n",
        "        image = Image.open(img_path).convert('RGB')\n",
        "\n",
        "        if self.transform:\n",
        "            image = self.transform(image)\n",
        "\n",
        "        if self.is_test:\n",
        "            return image\n",
        "        else:\n",
        "            label = self.df.iloc[idx]['label']\n",
        "            return image, label"
      ],
      "metadata": {
        "trusted": true,
        "execution": {
          "iopub.status.busy": "2025-05-25T13:45:27.297613Z",
          "iopub.execute_input": "2025-05-25T13:45:27.297899Z",
          "iopub.status.idle": "2025-05-25T13:45:27.303234Z",
          "shell.execute_reply.started": "2025-05-25T13:45:27.297878Z",
          "shell.execute_reply": "2025-05-25T13:45:27.302574Z"
        },
        "id": "R28MW0SYuT9d"
      },
      "outputs": [],
      "execution_count": null
    },
    {
      "cell_type": "code",
      "source": [
        "# Create full training dataset (to split later)\n",
        "full_dataset = SoilBinaryDataset(train_df, TRAIN_DIR, transform=train_transform, is_test=False)"
      ],
      "metadata": {
        "trusted": true,
        "execution": {
          "iopub.status.busy": "2025-05-25T13:45:39.146924Z",
          "iopub.execute_input": "2025-05-25T13:45:39.147609Z",
          "iopub.status.idle": "2025-05-25T13:45:39.151258Z",
          "shell.execute_reply.started": "2025-05-25T13:45:39.147574Z",
          "shell.execute_reply": "2025-05-25T13:45:39.150525Z"
        },
        "id": "CD8bPhyOuT9d"
      },
      "outputs": [],
      "execution_count": null
    },
    {
      "cell_type": "code",
      "source": [
        "# Split into train and validation datasets (80% train, 20% val)\n",
        "train_size = int(0.8 * len(full_dataset))\n",
        "val_size = len(full_dataset) - train_size\n",
        "train_dataset, val_dataset = random_split(full_dataset, [train_size, val_size])"
      ],
      "metadata": {
        "trusted": true,
        "execution": {
          "iopub.status.busy": "2025-05-25T13:45:46.156553Z",
          "iopub.execute_input": "2025-05-25T13:45:46.157253Z",
          "iopub.status.idle": "2025-05-25T13:45:46.161073Z",
          "shell.execute_reply.started": "2025-05-25T13:45:46.15723Z",
          "shell.execute_reply": "2025-05-25T13:45:46.160539Z"
        },
        "id": "dQoLmfDQuT9d"
      },
      "outputs": [],
      "execution_count": null
    },
    {
      "cell_type": "code",
      "source": [
        "# For validation, use test_transform (no augmentation)\n",
        "val_dataset.dataset.transform = test_transform  # override transform for val to no augmentation"
      ],
      "metadata": {
        "trusted": true,
        "execution": {
          "iopub.status.busy": "2025-05-25T13:45:55.716681Z",
          "iopub.execute_input": "2025-05-25T13:45:55.716952Z",
          "iopub.status.idle": "2025-05-25T13:45:55.720522Z",
          "shell.execute_reply.started": "2025-05-25T13:45:55.716933Z",
          "shell.execute_reply": "2025-05-25T13:45:55.719936Z"
        },
        "id": "lOgSilukuT9e"
      },
      "outputs": [],
      "execution_count": null
    },
    {
      "cell_type": "code",
      "source": [
        "# Data loaders\n",
        "BATCH_SIZE = 32\n",
        "\n",
        "train_loader = DataLoader(train_dataset, batch_size=BATCH_SIZE, shuffle=True, num_workers=2)\n",
        "val_loader = DataLoader(val_dataset, batch_size=BATCH_SIZE, shuffle=False, num_workers=2)"
      ],
      "metadata": {
        "trusted": true,
        "execution": {
          "iopub.status.busy": "2025-05-25T13:46:06.501945Z",
          "iopub.execute_input": "2025-05-25T13:46:06.502221Z",
          "iopub.status.idle": "2025-05-25T13:46:06.506478Z",
          "shell.execute_reply.started": "2025-05-25T13:46:06.5022Z",
          "shell.execute_reply": "2025-05-25T13:46:06.505893Z"
        },
        "id": "Ld1XgFmnuT9e"
      },
      "outputs": [],
      "execution_count": null
    },
    {
      "cell_type": "code",
      "source": [
        "# Test dataset and loader\n",
        "test_dataset = SoilBinaryDataset(test_df, TEST_DIR, transform=test_transform, is_test=True)\n",
        "test_loader = DataLoader(test_dataset, batch_size=BATCH_SIZE, shuffle=False, num_workers=2)"
      ],
      "metadata": {
        "trusted": true,
        "execution": {
          "iopub.status.busy": "2025-05-25T13:46:31.122558Z",
          "iopub.execute_input": "2025-05-25T13:46:31.122858Z",
          "iopub.status.idle": "2025-05-25T13:46:31.127536Z",
          "shell.execute_reply.started": "2025-05-25T13:46:31.122835Z",
          "shell.execute_reply": "2025-05-25T13:46:31.126736Z"
        },
        "id": "9W56J8yVuT9e"
      },
      "outputs": [],
      "execution_count": null
    },
    {
      "cell_type": "code",
      "source": [
        "# Handle class imbalance: compute weights from original train_df labels\n",
        "class_counts = train_df['label'].value_counts().to_dict()\n",
        "total = sum(class_counts.values())\n",
        "weights = [total / class_counts.get(i, 1) for i in range(2)]  # for classes 0 and 1\n",
        "class_weights = torch.tensor(weights).float().to(DEVICE)"
      ],
      "metadata": {
        "trusted": true,
        "execution": {
          "iopub.status.busy": "2025-05-25T13:46:38.15762Z",
          "iopub.execute_input": "2025-05-25T13:46:38.157895Z",
          "iopub.status.idle": "2025-05-25T13:46:38.163419Z",
          "shell.execute_reply.started": "2025-05-25T13:46:38.157875Z",
          "shell.execute_reply": "2025-05-25T13:46:38.162797Z"
        },
        "id": "ccMOifhiuT9e"
      },
      "outputs": [],
      "execution_count": null
    },
    {
      "cell_type": "code",
      "source": [
        "# Define model\n",
        "class SoilBinaryClassifier(nn.Module):\n",
        "    def __init__(self):\n",
        "        super(SoilBinaryClassifier, self).__init__()\n",
        "        self.base_model = models.resnet18(pretrained=True)\n",
        "        num_ftrs = self.base_model.fc.in_features\n",
        "        self.base_model.fc = nn.Linear(num_ftrs, 2)\n",
        "\n",
        "    def forward(self, x):\n",
        "        return self.base_model(x)\n",
        "\n",
        "model = SoilBinaryClassifier().to(DEVICE)"
      ],
      "metadata": {
        "trusted": true,
        "execution": {
          "iopub.status.busy": "2025-05-25T13:47:07.837138Z",
          "iopub.execute_input": "2025-05-25T13:47:07.83744Z",
          "iopub.status.idle": "2025-05-25T13:47:08.054128Z",
          "shell.execute_reply.started": "2025-05-25T13:47:07.837419Z",
          "shell.execute_reply": "2025-05-25T13:47:08.053389Z"
        },
        "id": "zNXtEdJ-uT9e"
      },
      "outputs": [],
      "execution_count": null
    },
    {
      "cell_type": "code",
      "source": [
        "# Loss and optimizer\n",
        "criterion = nn.CrossEntropyLoss(weight=class_weights)\n",
        "optimizer = optim.Adam(model.parameters(), lr=0.001)"
      ],
      "metadata": {
        "trusted": true,
        "execution": {
          "iopub.status.busy": "2025-05-25T13:47:11.713086Z",
          "iopub.execute_input": "2025-05-25T13:47:11.713686Z",
          "iopub.status.idle": "2025-05-25T13:47:11.7175Z",
          "shell.execute_reply.started": "2025-05-25T13:47:11.713658Z",
          "shell.execute_reply": "2025-05-25T13:47:11.716891Z"
        },
        "id": "KXdUtmJMuT9e"
      },
      "outputs": [],
      "execution_count": null
    },
    {
      "cell_type": "code",
      "source": [
        "# Training loop with validation\n",
        "EPOCHS = 10\n",
        "for epoch in range(EPOCHS):\n",
        "    model.train()\n",
        "    running_loss = 0.0\n",
        "\n",
        "    for inputs, labels in tqdm(train_loader, desc=f\"Training Epoch {epoch+1}\"):\n",
        "        inputs = inputs.to(DEVICE)\n",
        "        labels = labels.long().to(DEVICE)\n",
        "\n",
        "        optimizer.zero_grad()\n",
        "        outputs = model(inputs)\n",
        "        loss = criterion(outputs, labels)\n",
        "        loss.backward()\n",
        "        optimizer.step()\n",
        "\n",
        "        running_loss += loss.item()\n",
        "\n",
        "    avg_train_loss = running_loss / len(train_loader)\n",
        "\n",
        "    # Validation loop\n",
        "    model.eval()\n",
        "    val_loss = 0\n",
        "    correct = 0\n",
        "    total = 0\n",
        "    all_preds = []\n",
        "    all_labels = []\n",
        "\n",
        "    with torch.no_grad():\n",
        "        for inputs, labels in tqdm(val_loader, desc=f\"Validation Epoch {epoch+1}\"):\n",
        "            inputs, labels = inputs.to(DEVICE), labels.to(DEVICE)\n",
        "            outputs = model(inputs)\n",
        "            loss = criterion(outputs, labels)\n",
        "            val_loss += loss.item()\n",
        "\n",
        "            preds = torch.argmax(outputs, dim=1)\n",
        "            correct += (preds == labels).sum().item()\n",
        "            total += labels.size(0)\n",
        "\n",
        "            all_preds.extend(preds.cpu().numpy())\n",
        "            all_labels.extend(labels.cpu().numpy())\n",
        "\n",
        "    val_acc = correct / total\n",
        "    avg_val_loss = val_loss / len(val_loader)\n",
        "    f1 = f1_score(all_labels, all_preds, average='weighted')  # weighted for multi-class or imbalanced\n",
        "\n",
        "    print(f\"Epoch {epoch+1}/{EPOCHS} | Train Loss: {avg_train_loss:.4f} | Val Loss: {avg_val_loss:.4f} | Val Acc: {val_acc:.4f} | Val F1: {f1:.4f}\")"
      ],
      "metadata": {
        "trusted": true,
        "execution": {
          "iopub.status.busy": "2025-05-25T13:47:33.853431Z",
          "iopub.execute_input": "2025-05-25T13:47:33.853962Z",
          "iopub.status.idle": "2025-05-25T13:48:50.637044Z",
          "shell.execute_reply.started": "2025-05-25T13:47:33.853938Z",
          "shell.execute_reply": "2025-05-25T13:48:50.636176Z"
        },
        "id": "DruHcFv8uT9e",
        "outputId": "b922709a-7341-4279-910d-fb01412779ec"
      },
      "outputs": [
        {
          "name": "stderr",
          "text": "Training Epoch 1: 100%|██████████| 31/31 [00:05<00:00,  5.26it/s]\nValidation Epoch 1: 100%|██████████| 8/8 [00:01<00:00,  4.91it/s]\n",
          "output_type": "stream"
        },
        {
          "name": "stdout",
          "text": "Epoch 1/10 | Train Loss: 0.0868 | Val Loss: 0.0001 | Val Acc: 1.0000 | Val F1: 1.0000\n",
          "output_type": "stream"
        },
        {
          "name": "stderr",
          "text": "Training Epoch 2: 100%|██████████| 31/31 [00:06<00:00,  4.98it/s]\nValidation Epoch 2: 100%|██████████| 8/8 [00:01<00:00,  5.26it/s]\n",
          "output_type": "stream"
        },
        {
          "name": "stdout",
          "text": "Epoch 2/10 | Train Loss: 0.0001 | Val Loss: 0.0000 | Val Acc: 1.0000 | Val F1: 1.0000\n",
          "output_type": "stream"
        },
        {
          "name": "stderr",
          "text": "Training Epoch 3: 100%|██████████| 31/31 [00:06<00:00,  5.06it/s]\nValidation Epoch 3: 100%|██████████| 8/8 [00:01<00:00,  5.13it/s]\n",
          "output_type": "stream"
        },
        {
          "name": "stdout",
          "text": "Epoch 3/10 | Train Loss: 0.0000 | Val Loss: 0.0000 | Val Acc: 1.0000 | Val F1: 1.0000\n",
          "output_type": "stream"
        },
        {
          "name": "stderr",
          "text": "Training Epoch 4: 100%|██████████| 31/31 [00:06<00:00,  4.83it/s]\nValidation Epoch 4: 100%|██████████| 8/8 [00:01<00:00,  4.98it/s]\n",
          "output_type": "stream"
        },
        {
          "name": "stdout",
          "text": "Epoch 4/10 | Train Loss: 0.0000 | Val Loss: 0.0000 | Val Acc: 1.0000 | Val F1: 1.0000\n",
          "output_type": "stream"
        },
        {
          "name": "stderr",
          "text": "Training Epoch 5: 100%|██████████| 31/31 [00:06<00:00,  5.03it/s]\nValidation Epoch 5: 100%|██████████| 8/8 [00:01<00:00,  4.83it/s]\n",
          "output_type": "stream"
        },
        {
          "name": "stdout",
          "text": "Epoch 5/10 | Train Loss: 0.0000 | Val Loss: 0.0000 | Val Acc: 1.0000 | Val F1: 1.0000\n",
          "output_type": "stream"
        },
        {
          "name": "stderr",
          "text": "Training Epoch 6: 100%|██████████| 31/31 [00:06<00:00,  4.96it/s]\nValidation Epoch 6: 100%|██████████| 8/8 [00:01<00:00,  5.18it/s]\n",
          "output_type": "stream"
        },
        {
          "name": "stdout",
          "text": "Epoch 6/10 | Train Loss: 0.0000 | Val Loss: 0.0000 | Val Acc: 1.0000 | Val F1: 1.0000\n",
          "output_type": "stream"
        },
        {
          "name": "stderr",
          "text": "Training Epoch 7: 100%|██████████| 31/31 [00:06<00:00,  5.10it/s]\nValidation Epoch 7: 100%|██████████| 8/8 [00:01<00:00,  5.41it/s]\n",
          "output_type": "stream"
        },
        {
          "name": "stdout",
          "text": "Epoch 7/10 | Train Loss: 0.0000 | Val Loss: 0.0000 | Val Acc: 1.0000 | Val F1: 1.0000\n",
          "output_type": "stream"
        },
        {
          "name": "stderr",
          "text": "Training Epoch 8: 100%|██████████| 31/31 [00:06<00:00,  4.99it/s]\nValidation Epoch 8: 100%|██████████| 8/8 [00:01<00:00,  5.41it/s]\n",
          "output_type": "stream"
        },
        {
          "name": "stdout",
          "text": "Epoch 8/10 | Train Loss: 0.0000 | Val Loss: 0.0000 | Val Acc: 1.0000 | Val F1: 1.0000\n",
          "output_type": "stream"
        },
        {
          "name": "stderr",
          "text": "Training Epoch 9: 100%|██████████| 31/31 [00:05<00:00,  5.48it/s]\nValidation Epoch 9: 100%|██████████| 8/8 [00:01<00:00,  5.10it/s]\n",
          "output_type": "stream"
        },
        {
          "name": "stdout",
          "text": "Epoch 9/10 | Train Loss: 0.0000 | Val Loss: 0.0000 | Val Acc: 1.0000 | Val F1: 1.0000\n",
          "output_type": "stream"
        },
        {
          "name": "stderr",
          "text": "Training Epoch 10: 100%|██████████| 31/31 [00:06<00:00,  5.15it/s]\nValidation Epoch 10: 100%|██████████| 8/8 [00:01<00:00,  5.24it/s]",
          "output_type": "stream"
        },
        {
          "name": "stdout",
          "text": "Epoch 10/10 | Train Loss: 0.0000 | Val Loss: 0.0000 | Val Acc: 1.0000 | Val F1: 1.0000\n",
          "output_type": "stream"
        },
        {
          "name": "stderr",
          "text": "\n",
          "output_type": "stream"
        }
      ],
      "execution_count": null
    },
    {
      "cell_type": "code",
      "source": [
        "# Prediction on test set\n",
        "model.eval()\n",
        "predictions = []\n",
        "\n",
        "with torch.no_grad():\n",
        "    for inputs in tqdm(test_loader, desc=\"Predicting on test set\"):\n",
        "        inputs = inputs.to(DEVICE)\n",
        "        outputs = model(inputs)\n",
        "        _, predicted = torch.max(outputs, 1)\n",
        "        predictions.extend(predicted.cpu().numpy())"
      ],
      "metadata": {
        "trusted": true,
        "execution": {
          "iopub.status.busy": "2025-05-25T13:49:17.238158Z",
          "iopub.execute_input": "2025-05-25T13:49:17.238481Z",
          "iopub.status.idle": "2025-05-25T13:49:22.03031Z",
          "shell.execute_reply.started": "2025-05-25T13:49:17.238453Z",
          "shell.execute_reply": "2025-05-25T13:49:22.029554Z"
        },
        "id": "CrRKeoxluT9f",
        "outputId": "882378b4-255c-44a2-9483-d134d590287f"
      },
      "outputs": [
        {
          "name": "stderr",
          "text": "Predicting on test set: 100%|██████████| 31/31 [00:04<00:00,  6.48it/s]\n",
          "output_type": "stream"
        }
      ],
      "execution_count": null
    },
    {
      "cell_type": "code",
      "source": [
        "# Create submission DataFrame and save\n",
        "submission = pd.DataFrame({\n",
        "    'image_id': test_df['image_id'],\n",
        "    'label': predictions\n",
        "})\n",
        "submission.to_csv('submission.csv', index=False)\n",
        "print(\"Saved submission.csv\")"
      ],
      "metadata": {
        "trusted": true,
        "execution": {
          "iopub.status.busy": "2025-05-25T13:49:28.57723Z",
          "iopub.execute_input": "2025-05-25T13:49:28.57786Z",
          "iopub.status.idle": "2025-05-25T13:49:28.599255Z",
          "shell.execute_reply.started": "2025-05-25T13:49:28.577825Z",
          "shell.execute_reply": "2025-05-25T13:49:28.598501Z"
        },
        "id": "frSRMHczuT9f",
        "outputId": "9f4fd973-0a69-4ede-af78-2e773122d6a0"
      },
      "outputs": [
        {
          "name": "stdout",
          "text": "Saved submission.csv\n",
          "output_type": "stream"
        }
      ],
      "execution_count": null
    }
  ]
}