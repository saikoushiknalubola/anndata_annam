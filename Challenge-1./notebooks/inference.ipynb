{
  "metadata": {
    "kernelspec": {
      "language": "python",
      "display_name": "Python 3",
      "name": "python3"
    },
    "language_info": {
      "name": "python",
      "version": "3.11.11",
      "mimetype": "text/x-python",
      "codemirror_mode": {
        "name": "ipython",
        "version": 3
      },
      "pygments_lexer": "ipython3",
      "nbconvert_exporter": "python",
      "file_extension": ".py"
    },
    "kaggle": {
      "accelerator": "none",
      "dataSources": [
        {
          "sourceId": 102672,
          "databundleVersionId": 12375409,
          "sourceType": "competition"
        }
      ],
      "dockerImageVersionId": 31040,
      "isInternetEnabled": true,
      "language": "python",
      "sourceType": "notebook",
      "isGpuEnabled": false
    },
    "colab": {
      "name": "inference",
      "provenance": [],
      "include_colab_link": true
    }
  },
  "nbformat_minor": 0,
  "nbformat": 4,
  "cells": [
    {
      "cell_type": "markdown",
      "metadata": {
        "id": "view-in-github",
        "colab_type": "text"
      },
      "source": [
        "<a href=\"https://colab.research.google.com/github/saikoushiknalubola/anndata_annam/blob/main/Challenge-1./notebooks/inference.ipynb\" target=\"_parent\"><img src=\"https://colab.research.google.com/assets/colab-badge.svg\" alt=\"Open In Colab\"/></a>"
      ]
    },
    {
      "source": [
        "# IMPORTANT: SOME KAGGLE DATA SOURCES ARE PRIVATE\n",
        "# RUN THIS CELL IN ORDER TO IMPORT YOUR KAGGLE DATA SOURCES.\n",
        "import kagglehub\n",
        "kagglehub.login()\n"
      ],
      "metadata": {
        "id": "HNxPhyKENGqL"
      },
      "cell_type": "code",
      "outputs": [],
      "execution_count": null
    },
    {
      "source": [
        "# IMPORTANT: RUN THIS CELL IN ORDER TO IMPORT YOUR KAGGLE DATA SOURCES,\n",
        "# THEN FEEL FREE TO DELETE THIS CELL.\n",
        "# NOTE: THIS NOTEBOOK ENVIRONMENT DIFFERS FROM KAGGLE'S PYTHON\n",
        "# ENVIRONMENT SO THERE MAY BE MISSING LIBRARIES USED BY YOUR\n",
        "# NOTEBOOK.\n",
        "\n",
        "soil_classification_path = kagglehub.competition_download('soil-classification')\n",
        "\n",
        "print('Data source import complete.')\n"
      ],
      "metadata": {
        "id": "R--CF3BUNGqL"
      },
      "cell_type": "code",
      "outputs": [],
      "execution_count": null
    },
    {
      "cell_type": "code",
      "source": [
        "\"\"\"\n",
        "Author: Annam.ai IIT Ropar\n",
        "Team Name: anndata\n",
        "Team Members: N. Saikoushik, M. Sai Teja, G. Navya Sri, N. Chandhana Priya, V. Asmitha\n",
        "Leaderboard Rank: 22\n",
        "\n",
        "⚠️ NOTE: This inference notebook uses untrained ImageNet weights and random mapping to soil classes.\n",
        "It is only for testing the pipeline; it will not give meaningful predictions.\n",
        "\"\"\"\n",
        "\n",
        "import os\n",
        "import numpy as np\n",
        "import pandas as pd\n",
        "import torch\n",
        "import torchvision.transforms as transforms\n",
        "from torchvision import models\n",
        "from PIL import Image\n",
        "from tqdm import tqdm\n",
        "\n",
        "# Device setup\n",
        "device = torch.device(\"cuda\" if torch.cuda.is_available() else \"cpu\")\n",
        "\n",
        "# Data paths\n",
        "data_dir = \"/kaggle/input/soil-classification/soil_classification-2025\"\n",
        "test_dir = os.path.join(data_dir, \"test\")\n",
        "test_ids_file = os.path.join(data_dir, \"test_ids.csv\")\n",
        "\n",
        "# Load test ids\n",
        "df_test = pd.read_csv(test_ids_file)\n",
        "\n",
        "# Define soil class labels (static, as no training was done)\n",
        "class_labels = ['Alluvial', 'Black', 'Clay', 'Red']\n",
        "num_classes = len(class_labels)\n",
        "\n",
        "# Load pretrained ResNet18 (ImageNet weights)\n",
        "model_cnn = models.resnet18(weights=models.ResNet18_Weights.IMAGENET1K_V1)\n",
        "model_cnn.fc = torch.nn.Linear(model_cnn.fc.in_features, num_classes)\n",
        "\n",
        "# Randomly initialize last layer (no fine-tuning)\n",
        "torch.nn.init.xavier_uniform_(model_cnn.fc.weight)\n",
        "\n",
        "# Send model to device\n",
        "model_cnn = model_cnn.to(device)\n",
        "model_cnn.eval()\n",
        "\n",
        "# Image transform\n",
        "transform = transforms.Compose([\n",
        "    transforms.Resize((224, 224)),\n",
        "    transforms.ToTensor(),\n",
        "])\n",
        "\n",
        "# Predict function\n",
        "def predict_image(path):\n",
        "    img = Image.open(path).convert('RGB')\n",
        "    img_tensor = transform(img).unsqueeze(0).to(device)\n",
        "    with torch.no_grad():\n",
        "        outputs = model_cnn(img_tensor)\n",
        "        _, predicted = torch.max(outputs, 1)\n",
        "    return class_labels[predicted.item()]\n",
        "\n",
        "# Run inference on test set\n",
        "predictions = []\n",
        "for img_id in tqdm(df_test['image_id'], desc=\"Predicting\"):\n",
        "    img_path = os.path.join(test_dir, img_id)\n",
        "    pred_label = predict_image(img_path)\n",
        "    predictions.append(pred_label)\n",
        "\n",
        "# Prepare submission\n",
        "df_submission = pd.DataFrame({\n",
        "    'image_id': df_test['image_id'],\n",
        "    'soil_type': predictions\n",
        "})\n",
        "\n",
        "submission_path = \"submission.csv\"\n",
        "df_submission.to_csv(submission_path, index=False)\n",
        "print(f\"✅ Submission saved to {submission_path}\")\n"
      ],
      "metadata": {
        "_uuid": "8f2839f25d086af736a60e9eeb907d3b93b6e0e5",
        "_cell_guid": "b1076dfc-b9ad-4769-8c92-a6c4dae69d19",
        "trusted": true,
        "execution": {
          "iopub.status.busy": "2025-05-25T06:48:53.785686Z",
          "iopub.execute_input": "2025-05-25T06:48:53.786039Z",
          "iopub.status.idle": "2025-05-25T06:49:15.417621Z",
          "shell.execute_reply.started": "2025-05-25T06:48:53.786014Z",
          "shell.execute_reply": "2025-05-25T06:49:15.416748Z"
        },
        "id": "kqyzliXlNGqM",
        "outputId": "995f0169-8b9d-429d-d88e-0ed0869205df"
      },
      "outputs": [
        {
          "name": "stderr",
          "text": "Predicting: 100%|██████████| 341/341 [00:21<00:00, 15.97it/s]",
          "output_type": "stream"
        },
        {
          "name": "stdout",
          "text": "✅ Submission saved to submission.csv\n",
          "output_type": "stream"
        },
        {
          "name": "stderr",
          "text": "\n",
          "output_type": "stream"
        }
      ],
      "execution_count": null
    }
  ]
}