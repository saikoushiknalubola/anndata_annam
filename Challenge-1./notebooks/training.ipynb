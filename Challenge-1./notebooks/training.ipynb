{
  "metadata": {
    "kernelspec": {
      "language": "python",
      "display_name": "Python 3",
      "name": "python3"
    },
    "language_info": {
      "name": "python",
      "version": "3.11.11",
      "mimetype": "text/x-python",
      "codemirror_mode": {
        "name": "ipython",
        "version": 3
      },
      "pygments_lexer": "ipython3",
      "nbconvert_exporter": "python",
      "file_extension": ".py"
    },
    "kaggle": {
      "accelerator": "none",
      "dataSources": [
        {
          "sourceId": 102672,
          "databundleVersionId": 12375409,
          "sourceType": "competition"
        }
      ],
      "dockerImageVersionId": 31040,
      "isInternetEnabled": true,
      "language": "python",
      "sourceType": "notebook",
      "isGpuEnabled": false
    },
    "colab": {
      "name": "training",
      "provenance": [],
      "include_colab_link": true
    }
  },
  "nbformat_minor": 0,
  "nbformat": 4,
  "cells": [
    {
      "cell_type": "markdown",
      "metadata": {
        "id": "view-in-github",
        "colab_type": "text"
      },
      "source": [
        "<a href=\"https://colab.research.google.com/github/saikoushiknalubola/anndata_annam/blob/main/Challenge-1./notebooks/training.ipynb\" target=\"_parent\"><img src=\"https://colab.research.google.com/assets/colab-badge.svg\" alt=\"Open In Colab\"/></a>"
      ]
    },
    {
      "source": [
        "# IMPORTANT: SOME KAGGLE DATA SOURCES ARE PRIVATE\n",
        "# RUN THIS CELL IN ORDER TO IMPORT YOUR KAGGLE DATA SOURCES.\n",
        "import kagglehub\n",
        "kagglehub.login()\n"
      ],
      "metadata": {
        "id": "cjgWyAkFI8pS"
      },
      "cell_type": "code",
      "outputs": [],
      "execution_count": null
    },
    {
      "source": [
        "# IMPORTANT: RUN THIS CELL IN ORDER TO IMPORT YOUR KAGGLE DATA SOURCES,\n",
        "# THEN FEEL FREE TO DELETE THIS CELL.\n",
        "# NOTE: THIS NOTEBOOK ENVIRONMENT DIFFERS FROM KAGGLE'S PYTHON\n",
        "# ENVIRONMENT SO THERE MAY BE MISSING LIBRARIES USED BY YOUR\n",
        "# NOTEBOOK.\n",
        "\n",
        "soil_classification_path = kagglehub.competition_download('soil-classification')\n",
        "\n",
        "print('Data source import complete.')\n"
      ],
      "metadata": {
        "id": "XA15Lx28I8pS"
      },
      "cell_type": "code",
      "outputs": [],
      "execution_count": null
    },
    {
      "cell_type": "code",
      "source": [
        "### training.ipynb\n",
        "\n",
        "\"\"\"\n",
        "Author: Annam.ai IIT Ropar\n",
        "Team Name: anndata\n",
        "Team Members: N. Saikoushik, M. Sai Teja, G. Navya Sri, N. Chandhana Priya, V. Asmitha\n",
        "Leaderboard Rank: 22\n",
        "\"\"\"\n",
        "\n",
        "import os\n",
        "import numpy as np\n",
        "import pandas as pd\n",
        "import torch\n",
        "import torchvision.transforms as transforms\n",
        "from torchvision import models\n",
        "from PIL import Image\n",
        "from tqdm import tqdm\n",
        "from sklearn.ensemble import RandomForestClassifier\n",
        "from sklearn.metrics import f1_score, classification_report\n",
        "from sklearn.model_selection import StratifiedKFold\n",
        "from sklearn.preprocessing import LabelEncoder\n",
        "\n",
        "# Device setup\n",
        "device = torch.device(\"cuda\" if torch.cuda.is_available() else \"cpu\")\n",
        "\n",
        "# Data paths\n",
        "data_dir = \"/kaggle/input/soil-classification/soil_classification-2025\"\n",
        "train_dir = os.path.join(data_dir, \"train\")\n",
        "train_labels_file = os.path.join(data_dir, \"train_labels.csv\")\n",
        "\n",
        "# Load train labels\n",
        "df = pd.read_csv(train_labels_file)\n",
        "\n",
        "# Label encoding\n",
        "le = LabelEncoder()\n",
        "df['encoded_label'] = le.fit_transform(df['soil_type'])\n",
        "\n",
        "# Image transformation\n",
        "transform = transforms.Compose([\n",
        "    transforms.Resize((224, 224)),\n",
        "    transforms.ToTensor(),\n",
        "])\n",
        "\n",
        "import torch\n",
        "import torchvision.models as models\n",
        "\n",
        "# Set device\n",
        "device = torch.device(\"cuda\" if torch.cuda.is_available() else \"cpu\")\n",
        "\n",
        "# Load pretrained ResNet18 model (ImageNet weights) for feature extraction\n",
        "model_cnn = models.resnet18(weights=models.ResNet18_Weights.IMAGENET1K_V1)\n",
        "model_cnn.fc = torch.nn.Identity()  # remove classification head to get features\n",
        "\n",
        "# Move model to device and set to evaluation mode\n",
        "model_cnn = model_cnn.to(device)\n",
        "model_cnn.eval()\n",
        "\n",
        "# Extract features\n",
        "def extract_features(image_paths):\n",
        "    features = []\n",
        "    for path in tqdm(image_paths):\n",
        "        img = Image.open(path).convert('RGB')\n",
        "        img_tensor = transform(img).unsqueeze(0).to(device)\n",
        "        with torch.no_grad():\n",
        "            feat = model_cnn(img_tensor).cpu().numpy().flatten()\n",
        "        features.append(feat)\n",
        "    return np.array(features)\n",
        "\n",
        "image_paths = [os.path.join(train_dir, fname) for fname in df['image_id']]\n",
        "X = extract_features(image_paths)\n",
        "y = df['encoded_label'].values\n",
        "\n",
        "# Cross-validation\n",
        "skf = StratifiedKFold(n_splits=5, shuffle=True, random_state=42)\n",
        "fold_scores = []\n",
        "\n",
        "for fold, (train_idx, val_idx) in enumerate(skf.split(X, y)):\n",
        "    clf = RandomForestClassifier(n_estimators=100, random_state=42)\n",
        "    clf.fit(X[train_idx], y[train_idx])\n",
        "    val_preds = clf.predict(X[val_idx])\n",
        "    f1 = f1_score(y[val_idx], val_preds, average='macro')\n",
        "    fold_scores.append(f1)\n",
        "    print(f\"Fold {fold+1} F1-score: {f1:.4f}\")\n",
        "    print(classification_report(y[val_idx], val_preds, target_names=le.classes_))\n",
        "\n",
        "print(f\"Average F1-score: {np.mean(fold_scores):.4f}\")\n",
        "\n",
        "# Save the final model\n",
        "final_clf = RandomForestClassifier(n_estimators=100, random_state=42)\n",
        "final_clf.fit(X, y)\n",
        "import joblib\n",
        "joblib.dump(final_clf, \"final_model.pkl\")\n",
        "np.save(\"label_encoder_classes.npy\", le.classes_)\n",
        "print(\"Final model and label encoder saved.\")\n"
      ],
      "metadata": {
        "_uuid": "8f2839f25d086af736a60e9eeb907d3b93b6e0e5",
        "_cell_guid": "b1076dfc-b9ad-4769-8c92-a6c4dae69d19",
        "trusted": true,
        "execution": {
          "iopub.status.busy": "2025-05-25T06:28:44.876391Z",
          "iopub.execute_input": "2025-05-25T06:28:44.877556Z",
          "iopub.status.idle": "2025-05-25T06:30:12.244254Z",
          "shell.execute_reply.started": "2025-05-25T06:28:44.877523Z",
          "shell.execute_reply": "2025-05-25T06:30:12.242991Z"
        },
        "id": "suT7BvJsI8pT",
        "outputId": "867b1070-b45b-44ac-9428-f3f1379b22da"
      },
      "outputs": [
        {
          "name": "stderr",
          "text": "Downloading: \"https://download.pytorch.org/models/resnet18-f37072fd.pth\" to /root/.cache/torch/hub/checkpoints/resnet18-f37072fd.pth\n100%|██████████| 44.7M/44.7M [00:00<00:00, 161MB/s]\n100%|██████████| 1222/1222 [01:19<00:00, 15.39it/s]\n",
          "output_type": "stream"
        },
        {
          "name": "stdout",
          "text": "Fold 1 F1-score: 0.9394\n               precision    recall  f1-score   support\n\nAlluvial soil       0.95      0.93      0.94       106\n   Black Soil       0.95      0.91      0.93        46\n    Clay soil       1.00      0.93      0.96        40\n     Red soil       0.87      0.98      0.92        53\n\n     accuracy                           0.94       245\n    macro avg       0.94      0.94      0.94       245\n weighted avg       0.94      0.94      0.94       245\n\nFold 2 F1-score: 0.9394\n               precision    recall  f1-score   support\n\nAlluvial soil       0.95      0.94      0.95       106\n   Black Soil       0.98      0.94      0.96        47\n    Clay soil       0.90      0.90      0.90        40\n     Red soil       0.93      0.98      0.95        52\n\n     accuracy                           0.94       245\n    macro avg       0.94      0.94      0.94       245\n weighted avg       0.94      0.94      0.94       245\n\nFold 3 F1-score: 0.9545\n               precision    recall  f1-score   support\n\nAlluvial soil       0.94      0.97      0.96       106\n   Black Soil       0.96      0.98      0.97        46\n    Clay soil       0.93      1.00      0.96        39\n     Red soil       1.00      0.87      0.93        53\n\n     accuracy                           0.95       244\n    macro avg       0.96      0.95      0.95       244\n weighted avg       0.96      0.95      0.95       244\n\nFold 4 F1-score: 0.9512\n               precision    recall  f1-score   support\n\nAlluvial soil       0.95      0.95      0.95       105\n   Black Soil       0.90      0.96      0.93        46\n    Clay soil       0.95      1.00      0.98        40\n     Red soil       1.00      0.91      0.95        53\n\n     accuracy                           0.95       244\n    macro avg       0.95      0.95      0.95       244\n weighted avg       0.95      0.95      0.95       244\n\nFold 5 F1-score: 0.9925\n               precision    recall  f1-score   support\n\nAlluvial soil       0.99      0.99      0.99       105\n   Black Soil       1.00      0.98      0.99        46\n    Clay soil       1.00      1.00      1.00        40\n     Red soil       0.98      1.00      0.99        53\n\n     accuracy                           0.99       244\n    macro avg       0.99      0.99      0.99       244\n weighted avg       0.99      0.99      0.99       244\n\nAverage F1-score: 0.9554\nFinal model and label encoder saved.\n",
          "output_type": "stream"
        }
      ],
      "execution_count": null
    }
  ]
}