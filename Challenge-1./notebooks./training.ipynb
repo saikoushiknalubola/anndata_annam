# training.ipynb

"""
Author: Annam.ai IIT Ropar
Team Name: anndata
Team Members: N. Saikoushik, M. Sai Teja, G. Navya Sri, N. Chandhana Priya, V. Asmitha
Leaderboard Rank: 22
"""

# This is the notebook used for training the model.

import os
import pandas as pd
import numpy as np
from PIL import Image
from tqdm import tqdm
from sklearn.preprocessing import LabelEncoder
from sklearn.ensemble import RandomForestClassifier
from sklearn.metrics import classification_report, f1_score
from sklearn.model_selection import StratifiedKFold
import torch
from torchvision import models, transforms

# Set device
device = torch.device("cuda" if torch.cuda.is_available() else "cpu")

# Paths
data_dir = '/kaggle/input/soil-classification/soil_classification-2025'
train_csv = os.path.join(data_dir, 'train.csv')
train_images = os.path.join(data_dir, 'train')

# Load data
train_df = pd.read_csv(train_csv)
label_encoder = LabelEncoder()
train_df['label_encoded'] = label_encoder.fit_transform(train_df['label'])

# Define image transformations
image_transforms = transforms.Compose([
    transforms.Resize((224, 224)),
    transforms.ToTensor(),
    transforms.Normalize([0.485, 0.456, 0.406], [0.229, 0.224, 0.225])
])

# Load pretrained ResNet18
model_cnn = models.resnet18(weights=models.ResNet18_Weights.DEFAULT)
model_cnn.fc = torch.nn.Identity()
model_cnn = model_cnn.to(device)
model_cnn.eval()

# Extract features
def extract_features(df):
    features = []
    with torch.no_grad():
        for _, row in tqdm(df.iterrows(), total=len(df)):
            img_path = os.path.join(train_images, row['image'])
            img = Image.open(img_path).convert('RGB')
            img_tensor = image_transforms(img).unsqueeze(0).to(device)
            feat = model_cnn(img_tensor).squeeze(0).cpu().numpy()
            features.append(feat)
    return np.array(features)

X = extract_features(train_df)
y = train_df['label_encoded'].values

# Train Random Forest with cross-validation
skf = StratifiedKFold(n_splits=5, shuffle=True, random_state=42)
f1_scores = []

for fold, (train_idx, val_idx) in enumerate(skf.split(X, y)):
    clf = RandomForestClassifier(n_estimators=100, random_state=42)
    clf.fit(X[train_idx], y[train_idx])
    val_preds = clf.predict(X[val_idx])
    f1 = f1_score(y[val_idx], val_preds, average='weighted')
    print(f'Fold {fold+1} F1 Score: {f1:.4f}')
    f1_scores.append(f1)

print(f'Average F1 Score: {np.mean(f1_scores):.4f}')

# Save the final model
import joblib
joblib.dump(clf, 'final_random_forest_model.pkl')

